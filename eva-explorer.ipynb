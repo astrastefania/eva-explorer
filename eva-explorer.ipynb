{
 "cells": [
  {
   "cell_type": "markdown",
   "metadata": {},
   "source": [
    "# EVA explorer\n",
    "\n",
    "Source: https://data.nasa.gov/Raw-Data/Extra-vehicular-Activity-EVA-US-and-Russia/9kcy-zwvn"
   ]
  },
  {
   "cell_type": "markdown",
   "metadata": {},
   "source": [
    "## Import the original database"
   ]
  },
  {
   "cell_type": "code",
   "execution_count": 1,
   "metadata": {
    "scrolled": true
   },
   "outputs": [],
   "source": [
    "import numpy as np  \n",
    "import pandas as pd\n",
    "import matplotlib.pyplot as plt\n",
    "\n",
    "df_eva = pd.read_csv('Extra-vehicular_Activity__EVA__-_US_and_Russia.csv')"
   ]
  },
  {
   "cell_type": "markdown",
   "metadata": {},
   "source": [
    "## Explore the dataset"
   ]
  },
  {
   "cell_type": "code",
   "execution_count": 2,
   "metadata": {},
   "outputs": [
    {
     "data": {
      "text/html": [
       "<div>\n",
       "<style>\n",
       "    .dataframe thead tr:only-child th {\n",
       "        text-align: right;\n",
       "    }\n",
       "\n",
       "    .dataframe thead th {\n",
       "        text-align: left;\n",
       "    }\n",
       "\n",
       "    .dataframe tbody tr th {\n",
       "        vertical-align: top;\n",
       "    }\n",
       "</style>\n",
       "<table border=\"1\" class=\"dataframe\">\n",
       "  <thead>\n",
       "    <tr style=\"text-align: right;\">\n",
       "      <th></th>\n",
       "      <th>EVA #</th>\n",
       "      <th>Country</th>\n",
       "      <th>Crew</th>\n",
       "      <th>Vehicle</th>\n",
       "      <th>Date</th>\n",
       "      <th>Duration</th>\n",
       "      <th>Purpose</th>\n",
       "    </tr>\n",
       "  </thead>\n",
       "  <tbody>\n",
       "    <tr>\n",
       "      <th>0</th>\n",
       "      <td>1.0</td>\n",
       "      <td>USA</td>\n",
       "      <td>Ed White</td>\n",
       "      <td>Gemini IV</td>\n",
       "      <td>06/03/1965</td>\n",
       "      <td>0:36</td>\n",
       "      <td>First U.S. EVA. Used HHMU and took  photos.  G...</td>\n",
       "    </tr>\n",
       "    <tr>\n",
       "      <th>1</th>\n",
       "      <td>2.0</td>\n",
       "      <td>USA</td>\n",
       "      <td>David Scott</td>\n",
       "      <td>Gemini VIII</td>\n",
       "      <td>March 16-17, 1966</td>\n",
       "      <td>0:00</td>\n",
       "      <td>HHMU EVA cancelled before starting by stuck on...</td>\n",
       "    </tr>\n",
       "    <tr>\n",
       "      <th>2</th>\n",
       "      <td>3.0</td>\n",
       "      <td>USA</td>\n",
       "      <td>Eugene Cernan</td>\n",
       "      <td>Gemini IX-A</td>\n",
       "      <td>06/05/1966</td>\n",
       "      <td>2:07</td>\n",
       "      <td>Inadequate restraints, stiff 25ft umbilical an...</td>\n",
       "    </tr>\n",
       "    <tr>\n",
       "      <th>3</th>\n",
       "      <td>4.0</td>\n",
       "      <td>USA</td>\n",
       "      <td>Mike Collins</td>\n",
       "      <td>Gemini X</td>\n",
       "      <td>07/19/1966</td>\n",
       "      <td>0:50</td>\n",
       "      <td>Standup EVA.  UV photos of stars.  Ended by ey...</td>\n",
       "    </tr>\n",
       "  </tbody>\n",
       "</table>\n",
       "</div>"
      ],
      "text/plain": [
       "   EVA # Country       Crew          Vehicle               Date Duration  \\\n",
       "0    1.0     USA       Ed White    Gemini IV         06/03/1965     0:36   \n",
       "1    2.0     USA    David Scott  Gemini VIII  March 16-17, 1966     0:00   \n",
       "2    3.0     USA  Eugene Cernan  Gemini IX-A         06/05/1966     2:07   \n",
       "3    4.0     USA   Mike Collins     Gemini X         07/19/1966     0:50   \n",
       "\n",
       "                                            Purpose   \n",
       "0  First U.S. EVA. Used HHMU and took  photos.  G...  \n",
       "1  HHMU EVA cancelled before starting by stuck on...  \n",
       "2  Inadequate restraints, stiff 25ft umbilical an...  \n",
       "3  Standup EVA.  UV photos of stars.  Ended by ey...  "
      ]
     },
     "execution_count": 2,
     "metadata": {},
     "output_type": "execute_result"
    }
   ],
   "source": [
    "df_eva.head(4)"
   ]
  },
  {
   "cell_type": "code",
   "execution_count": 3,
   "metadata": {},
   "outputs": [
    {
     "data": {
      "text/html": [
       "<div>\n",
       "<style>\n",
       "    .dataframe thead tr:only-child th {\n",
       "        text-align: right;\n",
       "    }\n",
       "\n",
       "    .dataframe thead th {\n",
       "        text-align: left;\n",
       "    }\n",
       "\n",
       "    .dataframe tbody tr th {\n",
       "        vertical-align: top;\n",
       "    }\n",
       "</style>\n",
       "<table border=\"1\" class=\"dataframe\">\n",
       "  <thead>\n",
       "    <tr style=\"text-align: right;\">\n",
       "      <th></th>\n",
       "      <th>EVA #</th>\n",
       "      <th>Country</th>\n",
       "      <th>Crew</th>\n",
       "      <th>Vehicle</th>\n",
       "      <th>Date</th>\n",
       "      <th>Duration</th>\n",
       "      <th>Purpose</th>\n",
       "    </tr>\n",
       "  </thead>\n",
       "  <tbody>\n",
       "    <tr>\n",
       "      <th>371</th>\n",
       "      <td>368.0</td>\n",
       "      <td>Russia</td>\n",
       "      <td>Pavel Vinogradov     Roman Romanenko</td>\n",
       "      <td>ISS Incr-35</td>\n",
       "      <td>04/19/2013</td>\n",
       "      <td>6:38</td>\n",
       "      <td>Installed plasma experiment/cables/probes, rep...</td>\n",
       "    </tr>\n",
       "    <tr>\n",
       "      <th>372</th>\n",
       "      <td>369.0</td>\n",
       "      <td>Russia</td>\n",
       "      <td>Fyodor Yurchikhin                  Alexander M...</td>\n",
       "      <td>ISS Incr-36</td>\n",
       "      <td>06/24/2013</td>\n",
       "      <td>6:34</td>\n",
       "      <td>Power cable clamps installed and Kurs tested i...</td>\n",
       "    </tr>\n",
       "    <tr>\n",
       "      <th>373</th>\n",
       "      <td>370.0</td>\n",
       "      <td>Russia</td>\n",
       "      <td>Fyodor Yurchikhin                  Alexander M...</td>\n",
       "      <td>ISS Incr-36</td>\n",
       "      <td>08/16/2013</td>\n",
       "      <td>7:29</td>\n",
       "      <td>Â Installed VINOSLIVOST experiment on MRM2, 2...</td>\n",
       "    </tr>\n",
       "    <tr>\n",
       "      <th>374</th>\n",
       "      <td>371.0</td>\n",
       "      <td>Russia</td>\n",
       "      <td>Fyodor Yurchikhin                  Alexander M...</td>\n",
       "      <td>ISS Incr-36</td>\n",
       "      <td>08/22/2013</td>\n",
       "      <td>5:58</td>\n",
       "      <td>Â Retrieved laser downlink comm experiment fr...</td>\n",
       "    </tr>\n",
       "  </tbody>\n",
       "</table>\n",
       "</div>"
      ],
      "text/plain": [
       "     EVA # Country                                           Crew      \\\n",
       "371  368.0  Russia               Pavel Vinogradov     Roman Romanenko   \n",
       "372  369.0  Russia  Fyodor Yurchikhin                  Alexander M...   \n",
       "373  370.0  Russia  Fyodor Yurchikhin                  Alexander M...   \n",
       "374  371.0  Russia  Fyodor Yurchikhin                  Alexander M...   \n",
       "\n",
       "         Vehicle        Date Duration  \\\n",
       "371  ISS Incr-35  04/19/2013     6:38   \n",
       "372  ISS Incr-36  06/24/2013     6:34   \n",
       "373  ISS Incr-36  08/16/2013     7:29   \n",
       "374  ISS Incr-36  08/22/2013     5:58   \n",
       "\n",
       "                                              Purpose   \n",
       "371  Installed plasma experiment/cables/probes, rep...  \n",
       "372  Power cable clamps installed and Kurs tested i...  \n",
       "373  Â Installed VINOSLIVOST experiment on MRM2, 2...  \n",
       "374  Â Retrieved laser downlink comm experiment fr...  "
      ]
     },
     "execution_count": 3,
     "metadata": {},
     "output_type": "execute_result"
    }
   ],
   "source": [
    "df_eva.tail(4)"
   ]
  },
  {
   "cell_type": "code",
   "execution_count": 4,
   "metadata": {},
   "outputs": [
    {
     "data": {
      "text/plain": [
       "Index(['EVA #', 'Country', 'Crew    ', 'Vehicle', 'Date', 'Duration',\n",
       "       'Purpose '],\n",
       "      dtype='object')"
      ]
     },
     "execution_count": 4,
     "metadata": {},
     "output_type": "execute_result"
    }
   ],
   "source": [
    "df_eva.columns"
   ]
  },
  {
   "cell_type": "code",
   "execution_count": 5,
   "metadata": {},
   "outputs": [
    {
     "data": {
      "text/plain": [
       "(375, 7)"
      ]
     },
     "execution_count": 5,
     "metadata": {},
     "output_type": "execute_result"
    }
   ],
   "source": [
    "df_eva.shape"
   ]
  },
  {
   "cell_type": "markdown",
   "metadata": {},
   "source": [
    "## Clean the database"
   ]
  },
  {
   "cell_type": "code",
   "execution_count": 6,
   "metadata": {},
   "outputs": [
    {
     "data": {
      "text/plain": [
       "56"
      ]
     },
     "execution_count": 6,
     "metadata": {},
     "output_type": "execute_result"
    }
   ],
   "source": [
    "from duration import to_seconds as tomin\n",
    "import dateparser\n",
    "\n",
    "hmm = '0:56'\n",
    "tomin(hmm)"
   ]
  },
  {
   "cell_type": "code",
   "execution_count": 7,
   "metadata": {},
   "outputs": [
    {
     "data": {
      "text/plain": [
       "0    0:36\n",
       "1    0:00\n",
       "2    2:07\n",
       "3    0:50\n",
       "4    0:39\n",
       "Name: Duration, dtype: object"
      ]
     },
     "execution_count": 7,
     "metadata": {},
     "output_type": "execute_result"
    }
   ],
   "source": [
    "df_eva['Duration'].head()"
   ]
  },
  {
   "cell_type": "code",
   "execution_count": 8,
   "metadata": {
    "collapsed": true
   },
   "outputs": [],
   "source": [
    "def to_min(hmm):\n",
    "    \"\"\" Convert the time from h:mm to the total of minutes\"\"\"\n",
    "    try: \n",
    "        return tomin(hmm) \n",
    "    except (ValueError, TypeError): \n",
    "            return 0\n",
    "\n",
    "df_eva['Duration'] = df_eva['Duration'].apply(to_min)"
   ]
  },
  {
   "cell_type": "code",
   "execution_count": 9,
   "metadata": {},
   "outputs": [
    {
     "data": {
      "text/plain": [
       "0     36\n",
       "1      0\n",
       "2    127\n",
       "3     50\n",
       "4     39\n",
       "Name: Duration, dtype: int64"
      ]
     },
     "execution_count": 9,
     "metadata": {},
     "output_type": "execute_result"
    }
   ],
   "source": [
    "df_eva['Duration'].head()"
   ]
  },
  {
   "cell_type": "code",
   "execution_count": 10,
   "metadata": {
    "collapsed": true
   },
   "outputs": [],
   "source": [
    "def to_date(datestr):\n",
    "    \"\"\" Convert Date string in DateTime type \"\"\"\n",
    "    try: \n",
    "        return dateparser.parse(datestr)\n",
    "    except (Exception) as e: \n",
    "        print(e, datestr)\n",
    "\n",
    "df_eva['Date'] = df_eva['Date'].apply(to_date)"
   ]
  },
  {
   "cell_type": "code",
   "execution_count": 11,
   "metadata": {},
   "outputs": [
    {
     "data": {
      "text/plain": [
       "0   1965-06-03\n",
       "1   1966-03-16\n",
       "2   1966-06-05\n",
       "3   1966-07-19\n",
       "4   1966-07-20\n",
       "Name: Date, dtype: datetime64[ns]"
      ]
     },
     "execution_count": 11,
     "metadata": {},
     "output_type": "execute_result"
    }
   ],
   "source": [
    "df_eva['Date'].head()"
   ]
  },
  {
   "cell_type": "markdown",
   "metadata": {},
   "source": [
    "## Exploring the clean database"
   ]
  },
  {
   "cell_type": "code",
   "execution_count": 12,
   "metadata": {},
   "outputs": [
    {
     "data": {
      "text/html": [
       "<div>\n",
       "<style>\n",
       "    .dataframe thead tr:only-child th {\n",
       "        text-align: right;\n",
       "    }\n",
       "\n",
       "    .dataframe thead th {\n",
       "        text-align: left;\n",
       "    }\n",
       "\n",
       "    .dataframe tbody tr th {\n",
       "        vertical-align: top;\n",
       "    }\n",
       "</style>\n",
       "<table border=\"1\" class=\"dataframe\">\n",
       "  <thead>\n",
       "    <tr style=\"text-align: right;\">\n",
       "      <th></th>\n",
       "      <th>EVA #</th>\n",
       "      <th>Country</th>\n",
       "      <th>Crew</th>\n",
       "      <th>Vehicle</th>\n",
       "      <th>Date</th>\n",
       "      <th>Duration</th>\n",
       "      <th>Purpose</th>\n",
       "    </tr>\n",
       "  </thead>\n",
       "  <tbody>\n",
       "    <tr>\n",
       "      <th>0</th>\n",
       "      <td>1.0</td>\n",
       "      <td>USA</td>\n",
       "      <td>Ed White</td>\n",
       "      <td>Gemini IV</td>\n",
       "      <td>1965-06-03</td>\n",
       "      <td>36</td>\n",
       "      <td>First U.S. EVA. Used HHMU and took  photos.  G...</td>\n",
       "    </tr>\n",
       "    <tr>\n",
       "      <th>1</th>\n",
       "      <td>2.0</td>\n",
       "      <td>USA</td>\n",
       "      <td>David Scott</td>\n",
       "      <td>Gemini VIII</td>\n",
       "      <td>1966-03-16</td>\n",
       "      <td>0</td>\n",
       "      <td>HHMU EVA cancelled before starting by stuck on...</td>\n",
       "    </tr>\n",
       "    <tr>\n",
       "      <th>2</th>\n",
       "      <td>3.0</td>\n",
       "      <td>USA</td>\n",
       "      <td>Eugene Cernan</td>\n",
       "      <td>Gemini IX-A</td>\n",
       "      <td>1966-06-05</td>\n",
       "      <td>127</td>\n",
       "      <td>Inadequate restraints, stiff 25ft umbilical an...</td>\n",
       "    </tr>\n",
       "    <tr>\n",
       "      <th>3</th>\n",
       "      <td>4.0</td>\n",
       "      <td>USA</td>\n",
       "      <td>Mike Collins</td>\n",
       "      <td>Gemini X</td>\n",
       "      <td>1966-07-19</td>\n",
       "      <td>50</td>\n",
       "      <td>Standup EVA.  UV photos of stars.  Ended by ey...</td>\n",
       "    </tr>\n",
       "    <tr>\n",
       "      <th>4</th>\n",
       "      <td>5.0</td>\n",
       "      <td>USA</td>\n",
       "      <td>Mike Collins</td>\n",
       "      <td>Gemini X</td>\n",
       "      <td>1966-07-20</td>\n",
       "      <td>39</td>\n",
       "      <td>Retrieved MMOD experiment from docked Agena.  ...</td>\n",
       "    </tr>\n",
       "    <tr>\n",
       "      <th>5</th>\n",
       "      <td>6.0</td>\n",
       "      <td>USA</td>\n",
       "      <td>Richard Gordon</td>\n",
       "      <td>Gemini XI</td>\n",
       "      <td>1966-09-13</td>\n",
       "      <td>44</td>\n",
       "      <td>Attached tether between Agena and Gemini.  EVA...</td>\n",
       "    </tr>\n",
       "    <tr>\n",
       "      <th>6</th>\n",
       "      <td>7.0</td>\n",
       "      <td>USA</td>\n",
       "      <td>Richard Gordon</td>\n",
       "      <td>Gemini XI</td>\n",
       "      <td>1966-09-14</td>\n",
       "      <td>130</td>\n",
       "      <td>Standup EVA.  Took star photos. Agena tether ops</td>\n",
       "    </tr>\n",
       "    <tr>\n",
       "      <th>7</th>\n",
       "      <td>8.0</td>\n",
       "      <td>USA</td>\n",
       "      <td>Buzz Aldrin</td>\n",
       "      <td>Gemini XII</td>\n",
       "      <td>1966-11-12</td>\n",
       "      <td>149</td>\n",
       "      <td>Standup EVA.  Science tasks.  Took star photos</td>\n",
       "    </tr>\n",
       "    <tr>\n",
       "      <th>8</th>\n",
       "      <td>9.0</td>\n",
       "      <td>USA</td>\n",
       "      <td>Buzz Aldrin</td>\n",
       "      <td>Gemini XII</td>\n",
       "      <td>1966-11-13</td>\n",
       "      <td>126</td>\n",
       "      <td>Attached tether between Agena and Gemini.  UV ...</td>\n",
       "    </tr>\n",
       "    <tr>\n",
       "      <th>9</th>\n",
       "      <td>10.0</td>\n",
       "      <td>USA</td>\n",
       "      <td>Buzz Aldrin</td>\n",
       "      <td>Gemini XII</td>\n",
       "      <td>1966-11-14</td>\n",
       "      <td>55</td>\n",
       "      <td>Standup EVA.  Jettisoned equipment.  Took photos</td>\n",
       "    </tr>\n",
       "  </tbody>\n",
       "</table>\n",
       "</div>"
      ],
      "text/plain": [
       "   EVA # Country        Crew          Vehicle       Date  Duration  \\\n",
       "0    1.0     USA        Ed White    Gemini IV 1965-06-03        36   \n",
       "1    2.0     USA     David Scott  Gemini VIII 1966-03-16         0   \n",
       "2    3.0     USA   Eugene Cernan  Gemini IX-A 1966-06-05       127   \n",
       "3    4.0     USA    Mike Collins     Gemini X 1966-07-19        50   \n",
       "4    5.0     USA    Mike Collins     Gemini X 1966-07-20        39   \n",
       "5    6.0     USA  Richard Gordon    Gemini XI 1966-09-13        44   \n",
       "6    7.0     USA  Richard Gordon    Gemini XI 1966-09-14       130   \n",
       "7    8.0     USA     Buzz Aldrin   Gemini XII 1966-11-12       149   \n",
       "8    9.0     USA     Buzz Aldrin   Gemini XII 1966-11-13       126   \n",
       "9   10.0     USA     Buzz Aldrin   Gemini XII 1966-11-14        55   \n",
       "\n",
       "                                            Purpose   \n",
       "0  First U.S. EVA. Used HHMU and took  photos.  G...  \n",
       "1  HHMU EVA cancelled before starting by stuck on...  \n",
       "2  Inadequate restraints, stiff 25ft umbilical an...  \n",
       "3  Standup EVA.  UV photos of stars.  Ended by ey...  \n",
       "4  Retrieved MMOD experiment from docked Agena.  ...  \n",
       "5  Attached tether between Agena and Gemini.  EVA...  \n",
       "6   Standup EVA.  Took star photos. Agena tether ops  \n",
       "7     Standup EVA.  Science tasks.  Took star photos  \n",
       "8  Attached tether between Agena and Gemini.  UV ...  \n",
       "9   Standup EVA.  Jettisoned equipment.  Took photos  "
      ]
     },
     "execution_count": 12,
     "metadata": {},
     "output_type": "execute_result"
    }
   ],
   "source": [
    "df_eva.head(10)"
   ]
  },
  {
   "cell_type": "code",
   "execution_count": 13,
   "metadata": {},
   "outputs": [
    {
     "data": {
      "text/html": [
       "<div>\n",
       "<style>\n",
       "    .dataframe thead tr:only-child th {\n",
       "        text-align: right;\n",
       "    }\n",
       "\n",
       "    .dataframe thead th {\n",
       "        text-align: left;\n",
       "    }\n",
       "\n",
       "    .dataframe tbody tr th {\n",
       "        vertical-align: top;\n",
       "    }\n",
       "</style>\n",
       "<table border=\"1\" class=\"dataframe\">\n",
       "  <thead>\n",
       "    <tr style=\"text-align: right;\">\n",
       "      <th></th>\n",
       "      <th>EVA #</th>\n",
       "      <th>Country</th>\n",
       "      <th>Crew</th>\n",
       "      <th>Vehicle</th>\n",
       "      <th>Date</th>\n",
       "      <th>Duration</th>\n",
       "      <th>Purpose</th>\n",
       "    </tr>\n",
       "  </thead>\n",
       "  <tbody>\n",
       "    <tr>\n",
       "      <th>371</th>\n",
       "      <td>368.0</td>\n",
       "      <td>Russia</td>\n",
       "      <td>Pavel Vinogradov     Roman Romanenko</td>\n",
       "      <td>ISS Incr-35</td>\n",
       "      <td>2013-04-19</td>\n",
       "      <td>398</td>\n",
       "      <td>Installed plasma experiment/cables/probes, rep...</td>\n",
       "    </tr>\n",
       "    <tr>\n",
       "      <th>372</th>\n",
       "      <td>369.0</td>\n",
       "      <td>Russia</td>\n",
       "      <td>Fyodor Yurchikhin                  Alexander M...</td>\n",
       "      <td>ISS Incr-36</td>\n",
       "      <td>2013-06-24</td>\n",
       "      <td>394</td>\n",
       "      <td>Power cable clamps installed and Kurs tested i...</td>\n",
       "    </tr>\n",
       "    <tr>\n",
       "      <th>373</th>\n",
       "      <td>370.0</td>\n",
       "      <td>Russia</td>\n",
       "      <td>Fyodor Yurchikhin                  Alexander M...</td>\n",
       "      <td>ISS Incr-36</td>\n",
       "      <td>2013-08-16</td>\n",
       "      <td>449</td>\n",
       "      <td>Â Installed VINOSLIVOST experiment on MRM2, 2...</td>\n",
       "    </tr>\n",
       "    <tr>\n",
       "      <th>374</th>\n",
       "      <td>371.0</td>\n",
       "      <td>Russia</td>\n",
       "      <td>Fyodor Yurchikhin                  Alexander M...</td>\n",
       "      <td>ISS Incr-36</td>\n",
       "      <td>2013-08-22</td>\n",
       "      <td>358</td>\n",
       "      <td>Â Retrieved laser downlink comm experiment fr...</td>\n",
       "    </tr>\n",
       "  </tbody>\n",
       "</table>\n",
       "</div>"
      ],
      "text/plain": [
       "     EVA # Country                                           Crew      \\\n",
       "371  368.0  Russia               Pavel Vinogradov     Roman Romanenko   \n",
       "372  369.0  Russia  Fyodor Yurchikhin                  Alexander M...   \n",
       "373  370.0  Russia  Fyodor Yurchikhin                  Alexander M...   \n",
       "374  371.0  Russia  Fyodor Yurchikhin                  Alexander M...   \n",
       "\n",
       "         Vehicle       Date  Duration  \\\n",
       "371  ISS Incr-35 2013-04-19       398   \n",
       "372  ISS Incr-36 2013-06-24       394   \n",
       "373  ISS Incr-36 2013-08-16       449   \n",
       "374  ISS Incr-36 2013-08-22       358   \n",
       "\n",
       "                                              Purpose   \n",
       "371  Installed plasma experiment/cables/probes, rep...  \n",
       "372  Power cable clamps installed and Kurs tested i...  \n",
       "373  Â Installed VINOSLIVOST experiment on MRM2, 2...  \n",
       "374  Â Retrieved laser downlink comm experiment fr...  "
      ]
     },
     "execution_count": 13,
     "metadata": {},
     "output_type": "execute_result"
    }
   ],
   "source": [
    "df_eva.tail(4)"
   ]
  },
  {
   "cell_type": "markdown",
   "metadata": {},
   "source": [
    "## Visualise the exploration of the data base\n",
    "\n",
    "Graph 1"
   ]
  },
  {
   "cell_type": "code",
   "execution_count": 14,
   "metadata": {},
   "outputs": [
    {
     "data": {
      "text/plain": [
       "375"
      ]
     },
     "execution_count": 14,
     "metadata": {},
     "output_type": "execute_result"
    }
   ],
   "source": [
    "len(df_eva['EVA #'])"
   ]
  },
  {
   "cell_type": "code",
   "execution_count": 15,
   "metadata": {},
   "outputs": [
    {
     "data": {
      "text/plain": [
       "375"
      ]
     },
     "execution_count": 15,
     "metadata": {},
     "output_type": "execute_result"
    }
   ],
   "source": [
    "len(df_eva['Duration'])"
   ]
  },
  {
   "cell_type": "code",
   "execution_count": 16,
   "metadata": {},
   "outputs": [
    {
     "data": {
      "text/plain": [
       "536"
      ]
     },
     "execution_count": 16,
     "metadata": {},
     "output_type": "execute_result"
    }
   ],
   "source": [
    "df_eva.Duration.max()"
   ]
  },
  {
   "cell_type": "code",
   "execution_count": 17,
   "metadata": {},
   "outputs": [
    {
     "data": {
      "image/png": "[encoded data removed]",
      "text/plain": [
       "<matplotlib.figure.Figure at 0x1080670b8>"
      ]
     },
     "metadata": {},
     "output_type": "display_data"
    }
   ],
   "source": [
    "df_eva.plot(x='EVA #', y='Duration', kind='hist', bins=50)\n",
    "\n",
    "plt.xlabel('EVA no.')\n",
    "plt.ylabel('Minutes spent out in space')\n",
    "plt.show()"
   ]
  },
  {
   "cell_type": "markdown",
   "metadata": {},
   "source": [
    "Graph 2"
   ]
  },
  {
   "cell_type": "code",
   "execution_count": 18,
   "metadata": {
    "collapsed": true
   },
   "outputs": [],
   "source": [
    "df_eva['color'] = 'r'\n",
    "df_eva['color'] = df_eva['color'].where(df_eva.Country == 'USA', 'b')"
   ]
  },
  {
   "cell_type": "code",
   "execution_count": 19,
   "metadata": {
    "scrolled": true
   },
   "outputs": [
    {
     "data": {
      "image/png": "[encoded data removed]",
      "text/plain": [
       "<matplotlib.figure.Figure at 0x108252d68>"
      ]
     },
     "metadata": {},
     "output_type": "display_data"
    }
   ],
   "source": [
    "plt.scatter(df_eva['EVA #'], df_eva['Duration'], color=df_eva['color'])\n",
    "plt.show()"
   ]
  },
  {
   "cell_type": "code",
   "execution_count": 20,
   "metadata": {
    "collapsed": true
   },
   "outputs": [],
   "source": [
    "df_eva['ts'] = pd.to_datetime(df_eva['Date'])"
   ]
  },
  {
   "cell_type": "code",
   "execution_count": 34,
   "metadata": {},
   "outputs": [],
   "source": [
    "#df_eva.set_index('ts').groupby([pd.TimeGrouper('1M'), 'Country']) #['Duration'].mean().unstack(-1).plot()"
   ]
  },
  {
   "cell_type": "code",
   "execution_count": 35,
   "metadata": {},
   "outputs": [
    {
     "data": {
      "text/plain": [
       "Index(['EVA #', 'Country', 'Crew    ', 'Vehicle', 'Date', 'Duration',\n",
       "       'Purpose ', 'color', 'ts'],\n",
       "      dtype='object')"
      ]
     },
     "execution_count": 35,
     "metadata": {},
     "output_type": "execute_result"
    }
   ],
   "source": [
    "df_eva.columns"
   ]
  },
  {
   "cell_type": "code",
   "execution_count": 36,
   "metadata": {},
   "outputs": [],
   "source": [
    "crew_names = df_eva.loc[:, ['EVA #', 'Crew    ']]"
   ]
  },
  {
   "cell_type": "code",
   "execution_count": 37,
   "metadata": {},
   "outputs": [
    {
     "data": {
      "text/html": [
       "<div>\n",
       "<style>\n",
       "    .dataframe thead tr:only-child th {\n",
       "        text-align: right;\n",
       "    }\n",
       "\n",
       "    .dataframe thead th {\n",
       "        text-align: left;\n",
       "    }\n",
       "\n",
       "    .dataframe tbody tr th {\n",
       "        vertical-align: top;\n",
       "    }\n",
       "</style>\n",
       "<table border=\"1\" class=\"dataframe\">\n",
       "  <thead>\n",
       "    <tr style=\"text-align: right;\">\n",
       "      <th></th>\n",
       "      <th>EVA #</th>\n",
       "      <th>Crew</th>\n",
       "    </tr>\n",
       "  </thead>\n",
       "  <tbody>\n",
       "    <tr>\n",
       "      <th>0</th>\n",
       "      <td>1.0</td>\n",
       "      <td>Ed White</td>\n",
       "    </tr>\n",
       "    <tr>\n",
       "      <th>1</th>\n",
       "      <td>2.0</td>\n",
       "      <td>David Scott</td>\n",
       "    </tr>\n",
       "    <tr>\n",
       "      <th>2</th>\n",
       "      <td>3.0</td>\n",
       "      <td>Eugene Cernan</td>\n",
       "    </tr>\n",
       "    <tr>\n",
       "      <th>3</th>\n",
       "      <td>4.0</td>\n",
       "      <td>Mike Collins</td>\n",
       "    </tr>\n",
       "    <tr>\n",
       "      <th>4</th>\n",
       "      <td>5.0</td>\n",
       "      <td>Mike Collins</td>\n",
       "    </tr>\n",
       "    <tr>\n",
       "      <th>5</th>\n",
       "      <td>6.0</td>\n",
       "      <td>Richard Gordon</td>\n",
       "    </tr>\n",
       "    <tr>\n",
       "      <th>6</th>\n",
       "      <td>7.0</td>\n",
       "      <td>Richard Gordon</td>\n",
       "    </tr>\n",
       "    <tr>\n",
       "      <th>7</th>\n",
       "      <td>8.0</td>\n",
       "      <td>Buzz Aldrin</td>\n",
       "    </tr>\n",
       "    <tr>\n",
       "      <th>8</th>\n",
       "      <td>9.0</td>\n",
       "      <td>Buzz Aldrin</td>\n",
       "    </tr>\n",
       "    <tr>\n",
       "      <th>9</th>\n",
       "      <td>10.0</td>\n",
       "      <td>Buzz Aldrin</td>\n",
       "    </tr>\n",
       "  </tbody>\n",
       "</table>\n",
       "</div>"
      ],
      "text/plain": [
       "   EVA #        Crew    \n",
       "0    1.0        Ed White\n",
       "1    2.0     David Scott\n",
       "2    3.0   Eugene Cernan\n",
       "3    4.0    Mike Collins\n",
       "4    5.0    Mike Collins\n",
       "5    6.0  Richard Gordon\n",
       "6    7.0  Richard Gordon\n",
       "7    8.0     Buzz Aldrin\n",
       "8    9.0     Buzz Aldrin\n",
       "9   10.0     Buzz Aldrin"
      ]
     },
     "execution_count": 37,
     "metadata": {},
     "output_type": "execute_result"
    }
   ],
   "source": [
    "crew_names.head(10)"
   ]
  },
  {
   "cell_type": "code",
   "execution_count": 38,
   "metadata": {},
   "outputs": [
    {
     "data": {
      "text/html": [
       "<div>\n",
       "<style>\n",
       "    .dataframe thead tr:only-child th {\n",
       "        text-align: right;\n",
       "    }\n",
       "\n",
       "    .dataframe thead th {\n",
       "        text-align: left;\n",
       "    }\n",
       "\n",
       "    .dataframe tbody tr th {\n",
       "        vertical-align: top;\n",
       "    }\n",
       "</style>\n",
       "<table border=\"1\" class=\"dataframe\">\n",
       "  <thead>\n",
       "    <tr style=\"text-align: right;\">\n",
       "      <th></th>\n",
       "      <th>EVA #</th>\n",
       "      <th>Crew</th>\n",
       "    </tr>\n",
       "  </thead>\n",
       "  <tbody>\n",
       "    <tr>\n",
       "      <th>360</th>\n",
       "      <td>356.0</td>\n",
       "      <td>Yuri Lonchakov         Mike Fincke</td>\n",
       "    </tr>\n",
       "    <tr>\n",
       "      <th>361</th>\n",
       "      <td>357.0</td>\n",
       "      <td>Yuri Lonchakov         Mike Fincke</td>\n",
       "    </tr>\n",
       "    <tr>\n",
       "      <th>362</th>\n",
       "      <td>358.0</td>\n",
       "      <td>Gennady Padalka      Mike Barratt</td>\n",
       "    </tr>\n",
       "    <tr>\n",
       "      <th>363</th>\n",
       "      <td>359.0</td>\n",
       "      <td>Gennady Padalka      Mike Barratt</td>\n",
       "    </tr>\n",
       "    <tr>\n",
       "      <th>364</th>\n",
       "      <td>360.0</td>\n",
       "      <td>Oleg Kotov         Maxim Suraev</td>\n",
       "    </tr>\n",
       "    <tr>\n",
       "      <th>365</th>\n",
       "      <td>361.0</td>\n",
       "      <td>Fyodor Yurchikin    Mikhail Kornienko</td>\n",
       "    </tr>\n",
       "    <tr>\n",
       "      <th>366</th>\n",
       "      <td>362.0</td>\n",
       "      <td>Fyodor Yurchikin     Oleg Skripochka</td>\n",
       "    </tr>\n",
       "    <tr>\n",
       "      <th>367</th>\n",
       "      <td>363.0</td>\n",
       "      <td>Dmitry Kondratiev         Oleg Skripochka</td>\n",
       "    </tr>\n",
       "    <tr>\n",
       "      <th>368</th>\n",
       "      <td>365.0</td>\n",
       "      <td>Sergei Volkov       Alexander Samokutyaev</td>\n",
       "    </tr>\n",
       "    <tr>\n",
       "      <th>369</th>\n",
       "      <td>366.0</td>\n",
       "      <td>Oleg Kononenko                   Anton Shkaplerov</td>\n",
       "    </tr>\n",
       "    <tr>\n",
       "      <th>370</th>\n",
       "      <td>367.0</td>\n",
       "      <td>Gennady Padalka  Yuri Malenchenko</td>\n",
       "    </tr>\n",
       "    <tr>\n",
       "      <th>371</th>\n",
       "      <td>368.0</td>\n",
       "      <td>Pavel Vinogradov     Roman Romanenko</td>\n",
       "    </tr>\n",
       "    <tr>\n",
       "      <th>372</th>\n",
       "      <td>369.0</td>\n",
       "      <td>Fyodor Yurchikhin                  Alexander M...</td>\n",
       "    </tr>\n",
       "    <tr>\n",
       "      <th>373</th>\n",
       "      <td>370.0</td>\n",
       "      <td>Fyodor Yurchikhin                  Alexander M...</td>\n",
       "    </tr>\n",
       "    <tr>\n",
       "      <th>374</th>\n",
       "      <td>371.0</td>\n",
       "      <td>Fyodor Yurchikhin                  Alexander M...</td>\n",
       "    </tr>\n",
       "  </tbody>\n",
       "</table>\n",
       "</div>"
      ],
      "text/plain": [
       "     EVA #                                           Crew    \n",
       "360  356.0                 Yuri Lonchakov         Mike Fincke\n",
       "361  357.0                 Yuri Lonchakov         Mike Fincke\n",
       "362  358.0                  Gennady Padalka      Mike Barratt\n",
       "363  359.0                  Gennady Padalka      Mike Barratt\n",
       "364  360.0                    Oleg Kotov         Maxim Suraev\n",
       "365  361.0              Fyodor Yurchikin    Mikhail Kornienko\n",
       "366  362.0               Fyodor Yurchikin     Oleg Skripochka\n",
       "367  363.0          Dmitry Kondratiev         Oleg Skripochka\n",
       "368  365.0         Sergei Volkov       Alexander Samokutyaev \n",
       "369  366.0  Oleg Kononenko                   Anton Shkaplerov\n",
       "370  367.0                 Gennady Padalka  Yuri Malenchenko \n",
       "371  368.0               Pavel Vinogradov     Roman Romanenko\n",
       "372  369.0  Fyodor Yurchikhin                  Alexander M...\n",
       "373  370.0  Fyodor Yurchikhin                  Alexander M...\n",
       "374  371.0  Fyodor Yurchikhin                  Alexander M..."
      ]
     },
     "execution_count": 38,
     "metadata": {},
     "output_type": "execute_result"
    }
   ],
   "source": [
    "crew_names.tail(15)"
   ]
  },
  {
   "cell_type": "code",
   "execution_count": null,
   "metadata": {
    "collapsed": true
   },
   "outputs": [],
   "source": []
  }
 ],
 "metadata": {
  "kernelspec": {
   "display_name": "Python 3",
   "language": "python",
   "name": "python3"
  },
  "language_info": {
   "codemirror_mode": {
    "name": "ipython",
    "version": 3
   },
   "file_extension": ".py",
   "mimetype": "text/x-python",
   "name": "python",
   "nbconvert_exporter": "python",
   "pygments_lexer": "ipython3",
   "version": "3.5.2"
  }
 },
 "nbformat": 4,
 "nbformat_minor": 2
}
